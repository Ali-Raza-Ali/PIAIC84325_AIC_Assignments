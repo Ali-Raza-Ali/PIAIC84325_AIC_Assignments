{
 "cells": [
  {
   "cell_type": "markdown",
   "metadata": {
    "id": "NgUeapcvmIRh"
   },
   "source": [
    "# **Assignment 1 For Numpy**\n",
    "\n",
    "<div style='font-style:italic; font-size:24px'>\n",
    "Student Name: Ali Raza Ali Qadri </br>\n",
    "Roll No: PIAIC84325</br>\n",
    "Batch: 7</br>\n",
    "</div>"
   ]
  },
  {
   "cell_type": "markdown",
   "metadata": {
    "id": "yhr3JicwnA-4"
   },
   "source": [
    "Difficulty Level **Beginner**"
   ]
  },
  {
   "cell_type": "markdown",
   "metadata": {
    "id": "hVPqDJ1SnKSh"
   },
   "source": [
    "1. Import the numpy package under the name np"
   ]
  },
  {
   "cell_type": "code",
   "execution_count": 1,
   "metadata": {
    "id": "SePu31zKmgS-"
   },
   "outputs": [],
   "source": [
    "import numpy as np"
   ]
  },
  {
   "cell_type": "markdown",
   "metadata": {
    "id": "d0gO81krnL7g"
   },
   "source": [
    "2. Create a null vector of size 10 "
   ]
  },
  {
   "cell_type": "code",
   "execution_count": 2,
   "metadata": {
    "id": "2s6o2JPgnSBr"
   },
   "outputs": [
    {
     "output_type": "execute_result",
     "data": {
      "text/plain": [
       "array([0., 0., 0., 0., 0., 0., 0., 0., 0., 0.])"
      ]
     },
     "metadata": {},
     "execution_count": 2
    }
   ],
   "source": [
    "v1 = np.zeros(10)\n",
    "v1"
   ]
  },
  {
   "cell_type": "markdown",
   "metadata": {
    "id": "BJTMK03fnS1w"
   },
   "source": [
    "3. Create a vector with values ranging from 10 to 49"
   ]
  },
  {
   "cell_type": "code",
   "execution_count": 3,
   "metadata": {
    "id": "qRXxXuWdnj1M"
   },
   "outputs": [
    {
     "output_type": "execute_result",
     "data": {
      "text/plain": [
       "array([10, 11, 12, 13, 14, 15, 16, 17, 18, 19, 20, 21, 22, 23, 24, 25, 26,\n",
       "       27, 28, 29, 30, 31, 32, 33, 34, 35, 36, 37, 38, 39, 40, 41, 42, 43,\n",
       "       44, 45, 46, 47, 48])"
      ]
     },
     "metadata": {},
     "execution_count": 3
    }
   ],
   "source": [
    "v2= np.arange(10,49)\n",
    "v2"
   ]
  },
  {
   "cell_type": "markdown",
   "metadata": {
    "id": "n63lzg5Onkcn"
   },
   "source": [
    "4. Find the shape of previous array in question 3"
   ]
  },
  {
   "cell_type": "code",
   "execution_count": 4,
   "metadata": {
    "id": "1FueBdqPn_q7"
   },
   "outputs": [
    {
     "output_type": "execute_result",
     "data": {
      "text/plain": [
       "(39,)"
      ]
     },
     "metadata": {},
     "execution_count": 4
    }
   ],
   "source": [
    "v2.shape"
   ]
  },
  {
   "cell_type": "markdown",
   "metadata": {
    "id": "AzMlQj1MoAVe"
   },
   "source": [
    "5. Print the type of the previous array in question 3"
   ]
  },
  {
   "cell_type": "code",
   "execution_count": 5,
   "metadata": {
    "id": "AO9PYmdWoE1L"
   },
   "outputs": [
    {
     "output_type": "stream",
     "name": "stdout",
     "text": [
      "<class 'numpy.ndarray'>\n"
     ]
    }
   ],
   "source": [
    "print(type(v2))"
   ]
  },
  {
   "cell_type": "markdown",
   "metadata": {
    "id": "0qaKS13Yon-U"
   },
   "source": [
    "6. Print the numpy version and the configuration\n"
   ]
  },
  {
   "cell_type": "code",
   "execution_count": 6,
   "metadata": {
    "id": "T3wY24e1oorh"
   },
   "outputs": [
    {
     "output_type": "stream",
     "name": "stdout",
     "text": [
      "1.19.1\n"
     ]
    }
   ],
   "source": [
    "print(np.__version__)"
   ]
  },
  {
   "cell_type": "markdown",
   "metadata": {
    "id": "ZyUUiQf5oyvE"
   },
   "source": [
    "7. Print the dimension of the array in question 3\n"
   ]
  },
  {
   "cell_type": "code",
   "execution_count": 7,
   "metadata": {
    "id": "pLXfuIqIo0vq"
   },
   "outputs": [
    {
     "output_type": "stream",
     "name": "stdout",
     "text": [
      "1\n"
     ]
    }
   ],
   "source": [
    "print(v2.ndim)"
   ]
  },
  {
   "cell_type": "markdown",
   "metadata": {
    "id": "JYVMuFrqpBdV"
   },
   "source": [
    "8. Create a boolean array with all the True values"
   ]
  },
  {
   "cell_type": "code",
   "execution_count": 8,
   "metadata": {
    "id": "3apZsISzpFKR"
   },
   "outputs": [
    {
     "output_type": "execute_result",
     "data": {
      "text/plain": [
       "array([ True,  True,  True,  True,  True])"
      ]
     },
     "metadata": {},
     "execution_count": 8
    }
   ],
   "source": [
    "True_value_arr = np.ones(5,dtype=bool)\n",
    "True_value_arr"
   ]
  },
  {
   "cell_type": "markdown",
   "metadata": {
    "id": "4zbBooWZpPBU"
   },
   "source": [
    "9. Create a two dimensional array\n",
    "\n",
    "\n"
   ]
  },
  {
   "cell_type": "code",
   "execution_count": 9,
   "metadata": {
    "id": "KfPQEiVIpdTo"
   },
   "outputs": [
    {
     "output_type": "execute_result",
     "data": {
      "text/plain": [
       "array([[0, 1],\n",
       "       [2, 3]])"
      ]
     },
     "metadata": {},
     "execution_count": 9
    }
   ],
   "source": [
    "_2d_arr = np.arange(4).reshape(2,2)\n",
    "_2d_arr"
   ]
  },
  {
   "cell_type": "markdown",
   "metadata": {
    "id": "do9wPAFbpqC7"
   },
   "source": [
    "10. Create a three dimensional array\n",
    "\n"
   ]
  },
  {
   "cell_type": "code",
   "execution_count": 10,
   "metadata": {
    "id": "ZCO_q-KZqAeW"
   },
   "outputs": [
    {
     "output_type": "execute_result",
     "data": {
      "text/plain": [
       "array([[0, 1, 2],\n",
       "       [3, 4, 5],\n",
       "       [6, 7, 8]])"
      ]
     },
     "metadata": {},
     "execution_count": 10
    }
   ],
   "source": [
    "_3d_arr = np.arange(9).reshape(3,3)\n",
    "_3d_arr"
   ]
  },
  {
   "cell_type": "markdown",
   "metadata": {
    "id": "a4iysJ87qEeb"
   },
   "source": [
    "Difficulty Level **Easy**"
   ]
  },
  {
   "cell_type": "markdown",
   "metadata": {
    "id": "DehgqszSqjY6"
   },
   "source": [
    "11. Reverse a vector (first element becomes last)"
   ]
  },
  {
   "cell_type": "code",
   "execution_count": 11,
   "metadata": {
    "id": "tfevmc4VqkWu"
   },
   "outputs": [
    {
     "output_type": "stream",
     "name": "stdout",
     "text": [
      "[48 47 46 45 44 43 42 41 40 39 38 37 36 35 34 33 32 31 30 29 28 27 26 25\n 24 23 22 21 20 19 18 17 16 15 14 13 12 11 10]\n"
     ]
    }
   ],
   "source": [
    "print(v2[::-1]) #v2 previously defined"
   ]
  },
  {
   "cell_type": "markdown",
   "metadata": {
    "id": "yoATXS-qqk_q"
   },
   "source": [
    "12. Create a null vector of size 10 but the fifth value which is 1 "
   ]
  },
  {
   "cell_type": "code",
   "execution_count": 12,
   "metadata": {
    "id": "AheZ32Owqpte"
   },
   "outputs": [
    {
     "output_type": "stream",
     "name": "stdout",
     "text": [
      "Fifth value which is at index 4: [0. 0. 0. 0. 1. 0. 0. 0. 0. 0.]\n"
     ]
    }
   ],
   "source": [
    "v1[4]=1\n",
    "print(\"Fifth value which is at index 4:\",v1)"
   ]
  },
  {
   "cell_type": "markdown",
   "metadata": {
    "id": "RZRzOBbFsY0w"
   },
   "source": [
    "13. Create a 3x3 identity matrix"
   ]
  },
  {
   "cell_type": "code",
   "execution_count": 13,
   "metadata": {
    "id": "va2ou0BHsvEj"
   },
   "outputs": [
    {
     "output_type": "execute_result",
     "data": {
      "text/plain": [
       "array([[1., 0., 0.],\n",
       "       [0., 1., 0.],\n",
       "       [0., 0., 1.]])"
      ]
     },
     "metadata": {},
     "execution_count": 13
    }
   ],
   "source": [
    "ident_matrix = np.identity(3)\n",
    "ident_matrix"
   ]
  },
  {
   "cell_type": "markdown",
   "metadata": {
    "id": "lnN5drkUs6o2"
   },
   "source": [
    "14. arr = np.array([1, 2, 3, 4, 5]) \n",
    "\n",
    "---\n",
    "\n",
    " Convert the data type of the given array from int to float "
   ]
  },
  {
   "cell_type": "code",
   "execution_count": 14,
   "metadata": {
    "id": "59EIQt6otKUB"
   },
   "outputs": [
    {
     "output_type": "stream",
     "name": "stdout",
     "text": [
      "Array [1. 2. 3. 4. 5.] \nArray Type: <class 'numpy.ndarray'>\n"
     ]
    }
   ],
   "source": [
    "arr = np.array([1, 2, 3, 4, 5])\n",
    "arr = arr.astype(float)\n",
    "print(\"Array {0} \\nArray Type: {1}\".format(arr,type(arr)))"
   ]
  },
  {
   "cell_type": "markdown",
   "metadata": {
    "id": "fSL2AKJetTes"
   },
   "source": [
    "15. arr1 =          np.array([[1., 2., 3.],\n",
    "\n",
    "                    [4., 5., 6.]])  \n",
    "                      \n",
    "    arr2 = np.array([[0., 4., 1.],\n",
    "     \n",
    "                   [7., 2., 12.]])\n",
    "\n",
    "---\n",
    "\n",
    "\n",
    "Multiply arr1 with arr2\n"
   ]
  },
  {
   "cell_type": "code",
   "execution_count": 15,
   "metadata": {
    "id": "7VDXgRQDuJNV"
   },
   "outputs": [
    {
     "output_type": "execute_result",
     "data": {
      "text/plain": [
       "array([[ 0.,  8.,  3.],\n",
       "       [28., 10., 72.]])"
      ]
     },
     "metadata": {},
     "execution_count": 15
    }
   ],
   "source": [
    "arr1 = np.array([[1., 2., 3.],\n",
    "            [4., 5., 6.]]) \n",
    "arr2 = np.array([[0., 4., 1.],\n",
    "           [7., 2., 12.]])\n",
    "mult_arr = np.multiply(arr1,arr2)\n",
    "mult_arr"
   ]
  },
  {
   "cell_type": "markdown",
   "metadata": {
    "id": "a8yJ438-uKni"
   },
   "source": [
    "16. arr1 = np.array([[1., 2., 3.],\n",
    "                    [4., 5., 6.]]) \n",
    "                    \n",
    "    arr2 = np.array([[0., 4., 1.], \n",
    "                    [7., 2., 12.]])\n",
    "\n",
    "\n",
    "---\n",
    "\n",
    "Make an array by comparing both the arrays provided above"
   ]
  },
  {
   "cell_type": "code",
   "execution_count": 16,
   "metadata": {
    "id": "3MPDaAlYueF3"
   },
   "outputs": [
    {
     "output_type": "execute_result",
     "data": {
      "text/plain": [
       "False"
      ]
     },
     "metadata": {},
     "execution_count": 16
    }
   ],
   "source": [
    "arr1 = np.array([[1., 2., 3.],\n",
    "            [4., 5., 6.]]) \n",
    "\n",
    "arr2 = np.array([[0., 4., 1.],\n",
    "            [7., 2., 12.]])\n",
    "comp_arr = arr1 == arr2\n",
    "comp_arr = comp_arr.all()\n",
    "comp_arr"
   ]
  },
  {
   "cell_type": "markdown",
   "metadata": {
    "id": "3xiD0eJluewk"
   },
   "source": [
    "17. Extract all odd numbers from arr with values(0-9)"
   ]
  },
  {
   "cell_type": "code",
   "execution_count": 17,
   "metadata": {},
   "outputs": [
    {
     "output_type": "stream",
     "name": "stdout",
     "text": [
      "Actual array:  [ 0  1  2  3  4  5  6  7  8  9 10 11 12 13 14 15 16 17 18 19 20 21 22 23\n 24 25 26 27 28 29 30 31 32 33 34 35 36 37 38 39 40 41 42 43 44 45 46 47\n 48 49]\nExtracted odd values:  [1, 3, 5, 7]\n"
     ]
    }
   ],
   "source": [
    "arr = np.arange(50)\n",
    "print(\"Actual array: \",arr)\n",
    "print(\"Extracted odd values: \",[i for i in arr if i>=0 and i<9 and i%2!=0])"
   ]
  },
  {
   "cell_type": "markdown",
   "metadata": {
    "id": "zpg5cyLsvPoZ"
   },
   "source": [
    "18. Replace all odd numbers to -1 from previous array"
   ]
  },
  {
   "cell_type": "code",
   "execution_count": 18,
   "metadata": {
    "id": "rXUV1-ULvQdd"
   },
   "outputs": [
    {
     "output_type": "execute_result",
     "data": {
      "text/plain": [
       "array([  0,  -1,   2,  -3,   4,  -5,   6,  -7,   8,  -9,  10, -11,  12,\n",
       "       -13,  14, -15,  16, -17,  18, -19,  20, -21,  22, -23,  24, -25,\n",
       "        26, -27,  28, -29,  30, -31,  32, -33,  34, -35,  36, -37,  38,\n",
       "       -39,  40, -41,  42, -43,  44, -45,  46, -47,  48, -49])"
      ]
     },
     "metadata": {},
     "execution_count": 18
    }
   ],
   "source": [
    "arr[arr%2!=0]*=-1\n",
    "arr"
   ]
  },
  {
   "cell_type": "markdown",
   "metadata": {
    "id": "FWpHTWTDvjvi"
   },
   "source": [
    "19. arr = np.arange(10)\n",
    "\n",
    "\n",
    "---\n",
    "\n",
    "Replace the values of indexes 5,6,7 and 8 to **12**"
   ]
  },
  {
   "cell_type": "code",
   "execution_count": 19,
   "metadata": {
    "id": "ensZ3lqwvlSb"
   },
   "outputs": [
    {
     "output_type": "execute_result",
     "data": {
      "text/plain": [
       "array([ 0,  1,  2,  3,  4, 12, 12, 12, 12,  9])"
      ]
     },
     "metadata": {},
     "execution_count": 19
    }
   ],
   "source": [
    "arr = np.arange(10)\n",
    "arr[5:9]=12\n",
    "arr"
   ]
  },
  {
   "cell_type": "markdown",
   "metadata": {
    "id": "ib-vBffAv0zy"
   },
   "source": [
    "20. Create a 2d array with 1 on the border and 0 inside"
   ]
  },
  {
   "cell_type": "code",
   "execution_count": 20,
   "metadata": {
    "id": "RmzcjNYrwDrM"
   },
   "outputs": [
    {
     "output_type": "stream",
     "name": "stdout",
     "text": [
      "Initial Array: \n[[1. 1. 1. 1.]\n [1. 1. 1. 1.]\n [1. 1. 1. 1.]\n [1. 1. 1. 1.]]\n\nAfter modifying: \n[[1. 1. 1. 1.]\n [1. 0. 0. 1.]\n [1. 0. 0. 1.]\n [1. 1. 1. 1.]]\n"
     ]
    }
   ],
   "source": [
    "arr_2d = np.ones((4,4))\n",
    "print(\"Initial Array: \")\n",
    "print(arr_2d)\n",
    "\n",
    "arr_2d[1:-1,1:-1] = 0\n",
    "print(\"\\nAfter modifying: \")\n",
    "print(arr_2d)"
   ]
  },
  {
   "cell_type": "markdown",
   "metadata": {
    "id": "E1diIFSEwEmh"
   },
   "source": [
    "Difficulty Level **Medium**"
   ]
  },
  {
   "cell_type": "markdown",
   "metadata": {
    "id": "eGLZmNb_wKb4"
   },
   "source": [
    "21. arr2d = np.array([[1, 2, 3],\n",
    "\n",
    "                    [4, 5, 6], \n",
    "\n",
    "                    [7, 8, 9]])\n",
    "\n",
    "---\n",
    "\n",
    "Replace the value 5 to 12"
   ]
  },
  {
   "cell_type": "code",
   "execution_count": 21,
   "metadata": {
    "id": "VdUnsUOZwJFz"
   },
   "outputs": [
    {
     "output_type": "stream",
     "name": "stdout",
     "text": [
      "[[ 1  2  3]\n [ 4 12  6]\n [ 7  8  9]]\n"
     ]
    }
   ],
   "source": [
    "arr2d = np.array([[1, 2, 3],\n",
    "            [4, 5, 6], \n",
    "\n",
    "            [7, 8, 9]])\n",
    "\n",
    "arr2d[1:2,1] = 12\n",
    "print(arr2d)"
   ]
  },
  {
   "cell_type": "markdown",
   "metadata": {
    "id": "TEbFhlPZxaKO"
   },
   "source": [
    "22. arr3d = np.array([[[1, 2, 3], [4, 5, 6]], [[7, 8, 9], [10, 11, 12]]])\n",
    "\n",
    "---\n",
    "Convert all the values of 1st array to 64\n"
   ]
  },
  {
   "cell_type": "code",
   "execution_count": 22,
   "metadata": {
    "id": "eYzephU8xmsg"
   },
   "outputs": [
    {
     "output_type": "execute_result",
     "data": {
      "text/plain": [
       "array([[[64, 64, 64],\n",
       "        [ 4,  5,  6]],\n",
       "\n",
       "       [[ 7,  8,  9],\n",
       "        [10, 11, 12]]])"
      ]
     },
     "metadata": {},
     "execution_count": 22
    }
   ],
   "source": [
    "arr3d = np.array([[[1, 2, 3], [4, 5, 6]], [[7, 8, 9], [10, 11, 12]]])\n",
    "arr3d[0][0] = 64\n",
    "arr3d"
   ]
  },
  {
   "cell_type": "markdown",
   "metadata": {
    "id": "vZj0Ndvnx6f0"
   },
   "source": [
    "23. Make a 2-Dimensional array with values 0-9 and slice out the first 1st 1-D array from it"
   ]
  },
  {
   "cell_type": "code",
   "execution_count": 23,
   "metadata": {
    "id": "pM4e9YfdyHSv"
   },
   "outputs": [
    {
     "output_type": "execute_result",
     "data": {
      "text/plain": [
       "array([[0, 1]])"
      ]
     },
     "metadata": {},
     "execution_count": 23
    }
   ],
   "source": [
    "arr1 = np.arange(4).reshape(2,2)\n",
    "arr1_sliced = arr1[0:1]\n",
    "arr1_sliced"
   ]
  },
  {
   "cell_type": "markdown",
   "metadata": {
    "id": "C3dkW0lZyVps"
   },
   "source": [
    "24. Make a 2-Dimensional array with values 0-9 and slice out the 2nd value from 2nd 1-D array from it"
   ]
  },
  {
   "cell_type": "code",
   "execution_count": 24,
   "metadata": {
    "id": "IrrzK2xgygqV"
   },
   "outputs": [
    {
     "output_type": "stream",
     "name": "stdout",
     "text": [
      "2d Array:\n [[0 1 2]\n [3 4 5]\n [6 7 8]]\n\n2nd Value from 2nd 1-D array =  [4]\n"
     ]
    }
   ],
   "source": [
    "arr_2d = np.array([[0,1,2],\n",
    "          [3,4,5],\n",
    "          [6,7,8]])\n",
    "print(\"2d Array:\\n\",arr_2d)\n",
    "print(\"\\n2nd Value from 2nd 1-D array = \",arr_2d[1:2,1])"
   ]
  },
  {
   "cell_type": "markdown",
   "metadata": {
    "id": "G3dLwOO9yyrE"
   },
   "source": [
    "25. Make a 2-Dimensional array with values 0-9 and slice out the third column but only the first two rows"
   ]
  },
  {
   "cell_type": "code",
   "execution_count": 25,
   "metadata": {
    "id": "5Bx4fqsLyqGD"
   },
   "outputs": [
    {
     "output_type": "stream",
     "name": "stdout",
     "text": [
      "2d Array:\n [[0 1 2]\n [3 4 5]\n [6 7 8]]\n\n Third column but only the first two rows data =  [2 5]\n"
     ]
    }
   ],
   "source": [
    "arr_2d = np.array([[0,1,2],\n",
    "          [3,4,5],\n",
    "          [6,7,8]])\n",
    "print(\"2d Array:\\n\",arr_2d)\n",
    "print(\"\\n Third column but only the first two rows data = \",arr_2d[:2,2,])"
   ]
  },
  {
   "cell_type": "markdown",
   "metadata": {
    "id": "CQ9YST5jy0IL"
   },
   "source": [
    "26. Create a 10x10 array with random values and find the minimum and maximum values"
   ]
  },
  {
   "cell_type": "code",
   "execution_count": 26,
   "metadata": {
    "id": "lhJPugjQzG6W"
   },
   "outputs": [
    {
     "output_type": "stream",
     "name": "stdout",
     "text": [
      "10x10 array with random values: \n [[0.16392721 0.08285903 0.82087489 0.46570228 0.43932701 0.56313308\n  0.24937362 0.93999212 0.58898078 0.95745995]\n [0.841704   0.742399   0.33118428 0.38550864 0.39182634 0.88697134\n  0.09109608 0.3365075  0.07055815 0.84466765]\n [0.89514948 0.69803855 0.32512088 0.31669561 0.89824349 0.29913483\n  0.13007227 0.28601992 0.38615235 0.17026175]\n [0.02699734 0.41816936 0.88300741 0.55970327 0.57463139 0.45258925\n  0.11041987 0.9929972  0.98011794 0.58194844]\n [0.62625737 0.07411389 0.41969565 0.46101275 0.48623142 0.70934872\n  0.18674994 0.37668841 0.71044375 0.75121474]\n [0.91000161 0.26672034 0.39101064 0.705443   0.93397354 0.34177475\n  0.25531397 0.93656022 0.25489901 0.60079352]\n [0.88502644 0.23444012 0.07059824 0.74172308 0.60422368 0.91458174\n  0.77776019 0.51218037 0.30549856 0.27578463]\n [0.10185059 0.37887655 0.95823574 0.07709719 0.52686643 0.31186918\n  0.49474559 0.83078011 0.25928387 0.2601277 ]\n [0.52599168 0.85767013 0.77344419 0.93530957 0.75615917 0.80020825\n  0.03298383 0.47598128 0.37901383 0.8340742 ]\n [0.99967378 0.13879854 0.45484953 0.94009385 0.07791506 0.10227062\n  0.02934713 0.96122558 0.54713956 0.68335501]]\n\nArray Max Value = 0.999673775108425, Array Min Value = 0.026997336471287547\n"
     ]
    }
   ],
   "source": [
    "arr = np.random.random((10,10))\n",
    "\n",
    "print(\"10x10 array with random values: \\n\",arr)\n",
    "\n",
    "print(\"\\nArray Max Value = {0}, Array Min Value = {1}\".format(arr.max(),arr.min()))"
   ]
  },
  {
   "cell_type": "markdown",
   "metadata": {
    "id": "cAgDt6KazHk6"
   },
   "source": [
    "27. a = np.array([1,2,3,2,3,4,3,4,5,6]) b = np.array([7,2,10,2,7,4,9,4,9,8])\n",
    "---\n",
    "Find the common items between a and b\n"
   ]
  },
  {
   "cell_type": "code",
   "execution_count": 27,
   "metadata": {
    "id": "kBXZanxIzs_F"
   },
   "outputs": [
    {
     "output_type": "stream",
     "name": "stdout",
     "text": [
      "Common Items are =  [2 4]\n"
     ]
    }
   ],
   "source": [
    "a = np.array([1,2,3,2,3,4,3,4,5,6]) \n",
    "b = np.array([7,2,10,2,7,4,9,4,9,8])\n",
    "common_elements = np.intersect1d(a,b)\n",
    "print(\"Common Items are = \",common_elements)"
   ]
  },
  {
   "cell_type": "markdown",
   "metadata": {
    "id": "lF9IzWOAztpD"
   },
   "source": [
    "28. a = np.array([1,2,3,2,3,4,3,4,5,6])\n",
    "b = np.array([7,2,10,2,7,4,9,4,9,8])\n",
    "\n",
    "---\n",
    "Find the positions where elements of a and b match\n",
    "\n"
   ]
  },
  {
   "cell_type": "code",
   "execution_count": 28,
   "metadata": {
    "id": "JR-mHQLH0HY_"
   },
   "outputs": [
    {
     "output_type": "stream",
     "name": "stdout",
     "text": [
      "Matching elements index:  (array([1, 3, 5, 7]),)\n"
     ]
    }
   ],
   "source": [
    "a = np.array([1,2,3,2,3,4,3,4,5,6]) \n",
    "b = np.array([7,2,10,2,7,4,9,4,9,8])\n",
    "\n",
    "print(\"Matching elements index: \",np.where(a == b))"
   ]
  },
  {
   "cell_type": "markdown",
   "metadata": {
    "id": "mMDiefpH0H1x"
   },
   "source": [
    "29.  names = np.array(['Bob', 'Joe', 'Will', 'Bob', 'Will', 'Joe', 'Joe'])  data = np.random.randn(7, 4)\n",
    "\n",
    "---\n",
    "Find all the values from array **data** where the values from array **names** are not equal to **Will**\n"
   ]
  },
  {
   "cell_type": "code",
   "execution_count": 29,
   "metadata": {
    "id": "gfc1Lpf81ZSR"
   },
   "outputs": [
    {
     "output_type": "stream",
     "name": "stdout",
     "text": [
      "Names: \n ['Bob' 'Joe' 'Will' 'Bob' 'Will' 'Joe' 'Joe']\n\nData: \n [[-0.42001249  0.42094274  0.51022632 -1.30914947]\n [ 0.51542088  0.77305014  0.11437425 -0.15787351]\n [-1.15742877  0.58343502  0.60362699  0.11745694]\n [-1.15034038  0.47418171  0.6246172  -0.81003793]\n [ 0.88022658  1.23506967 -0.77052308 -1.16418126]\n [ 0.54700502 -0.25057522  1.2505299  -0.69698862]\n [ 0.09469052  0.70852332  0.38971119 -0.48298095]]\n\nValues from array names are not equal to Will are: \n [[-0.42001249  0.42094274  0.51022632 -1.30914947]\n [ 0.51542088  0.77305014  0.11437425 -0.15787351]\n [-1.15034038  0.47418171  0.6246172  -0.81003793]\n [ 0.54700502 -0.25057522  1.2505299  -0.69698862]\n [ 0.09469052  0.70852332  0.38971119 -0.48298095]]\n"
     ]
    }
   ],
   "source": [
    "names = np.array(['Bob', 'Joe', 'Will', 'Bob', 'Will', 'Joe', 'Joe']) \n",
    "data = np.random.randn(7, 4)\n",
    "print(\"Names: \\n\",names)\n",
    "print(\"\\nData: \\n\",data)\n",
    "print(\"\\nValues from array names are not equal to Will are: \\n\",data[names!='Will'])"
   ]
  },
  {
   "cell_type": "markdown",
   "metadata": {
    "id": "52zEjDMf1aXS"
   },
   "source": [
    "30. names = np.array(['Bob', 'Joe', 'Will', 'Bob', 'Will', 'Joe', 'Joe']) data = np.random.randn(7, 4)\n",
    "\n",
    "---\n",
    "Find all the values from array **data** where the values from array **names** are not equal to **Will** and **Joe**\n",
    "\n"
   ]
  },
  {
   "cell_type": "code",
   "execution_count": 30,
   "metadata": {
    "id": "8RYG0kLO1mHw"
   },
   "outputs": [
    {
     "output_type": "stream",
     "name": "stdout",
     "text": [
      "Names: \n ['Bob' 'Joe' 'Will' 'Bob' 'Will' 'Joe' 'Joe']\n\nData: \n [[-0.74803465  1.43805221 -0.50670787  0.39117804]\n [-0.83858709  0.83653425 -0.28975681 -0.12848591]\n [-3.06988831  0.67145171  1.45640094  1.44665508]\n [-0.01274488 -0.13080419  0.8506288  -0.50862518]\n [-1.27034134 -1.29289785  0.85732966 -0.95616846]\n [ 0.21462048 -1.48005693  0.30903351 -0.18258308]\n [-1.30229028 -2.10231835 -1.26307015  0.99760811]]\n\nValues from array names are not equal to Will and Joe are: \n [[-0.74803465  1.43805221 -0.50670787  0.39117804]\n [-0.01274488 -0.13080419  0.8506288  -0.50862518]]\n"
     ]
    }
   ],
   "source": [
    "names = np.array(['Bob', 'Joe', 'Will', 'Bob', 'Will', 'Joe', 'Joe']) \n",
    "data = np.random.randn(7, 4)\n",
    "print(\"Names: \\n\",names)\n",
    "print(\"\\nData: \\n\",data)\n",
    "\n",
    "print(\"\\nValues from array names are not equal to Will and Joe are: \\n\",data[(names != \"Will\") & (names != \"Joe\")])"
   ]
  },
  {
   "cell_type": "markdown",
   "metadata": {
    "id": "Q7hjf2bd2dCY"
   },
   "source": [
    "Difficulty Level **Hard**"
   ]
  },
  {
   "cell_type": "markdown",
   "metadata": {
    "id": "b48g7aRA2jVM"
   },
   "source": [
    "31. Create a 2D array of shape 5x3 to contain decimal numbers between 1 and 15."
   ]
  },
  {
   "cell_type": "code",
   "execution_count": 31,
   "metadata": {
    "id": "EbwfSCrW2f9_"
   },
   "outputs": [
    {
     "output_type": "stream",
     "name": "stdout",
     "text": [
      "Array:  [[ 7.84073534  4.73021195  8.58388973]\n [ 9.54186245  1.96106205  3.62982183]\n [12.35745844  6.29759601 10.05137556]\n [ 4.54345771 13.93391625 14.01855988]\n [ 8.96893766  5.70151591  7.91881003]]\nArray Shape:  (5, 3)\n"
     ]
    }
   ],
   "source": [
    "arr = np.random.uniform(1,15,size=(5,3))\n",
    "print(\"Array: \",arr)\n",
    "print('Array Shape: ',arr.shape)"
   ]
  },
  {
   "cell_type": "markdown",
   "metadata": {
    "id": "Ei_nDHtO3qBk"
   },
   "source": [
    "32. Create an array of shape (2, 2, 4) with decimal numbers between 1 to 16."
   ]
  },
  {
   "cell_type": "code",
   "execution_count": 32,
   "metadata": {
    "id": "phOxVpBM4M6D"
   },
   "outputs": [
    {
     "output_type": "stream",
     "name": "stdout",
     "text": [
      "Array:  [[[14.09357787 10.91362014  1.67098097 12.09114818]\n  [14.59706982 15.52591031  1.76359489 11.96544931]]\n\n [[ 5.07418682  1.86033079  2.02541085 15.27516601]\n  [ 7.44075027  8.14998602  7.65156211 10.06967437]]]\nArray Shape:  (2, 2, 4)\n"
     ]
    }
   ],
   "source": [
    "arr = np.random.uniform(1,16,size=(2,2,4))\n",
    "print(\"Array: \",arr)\n",
    "print('Array Shape: ',arr.shape)"
   ]
  },
  {
   "cell_type": "markdown",
   "metadata": {
    "id": "uyiQaMjA4d_x"
   },
   "source": [
    "33. Swap axes of the array you created in Question 32"
   ]
  },
  {
   "cell_type": "code",
   "execution_count": 33,
   "metadata": {
    "id": "w2m9p8064VtR",
    "scrolled": true
   },
   "outputs": [
    {
     "output_type": "execute_result",
     "data": {
      "text/plain": [
       "array([[[14.09357787, 14.59706982],\n",
       "        [10.91362014, 15.52591031],\n",
       "        [ 1.67098097,  1.76359489],\n",
       "        [12.09114818, 11.96544931]],\n",
       "\n",
       "       [[ 5.07418682,  7.44075027],\n",
       "        [ 1.86033079,  8.14998602],\n",
       "        [ 2.02541085,  7.65156211],\n",
       "        [15.27516601, 10.06967437]]])"
      ]
     },
     "metadata": {},
     "execution_count": 33
    }
   ],
   "source": [
    "np.swapaxes(arr,1,2)"
   ]
  },
  {
   "cell_type": "markdown",
   "metadata": {
    "id": "2dlU_yUR4mVZ"
   },
   "source": [
    "34. Create an array of size 10, and find the square root of every element in the array, if the values less than 0.5, replace them with 0"
   ]
  },
  {
   "cell_type": "code",
   "execution_count": 34,
   "metadata": {
    "id": "tmBabEJ-5JgB"
   },
   "outputs": [
    {
     "output_type": "stream",
     "name": "stdout",
     "text": [
      "\nBefore processing: \n [0.89855012 0.28123754 0.43529521 0.63966619 0.31045257 0.43557097\n 0.86958288 0.93063557 0.83253238 0.97364896]\n\nAfter processing: \n [0.94791884 0.53031834 0.65976906 0.79979134 0.55718271 0.65997801\n 0.93251428 0.96469455 0.91243212 0.98673652]\n"
     ]
    }
   ],
   "source": [
    "from math import sqrt\n",
    "arr=np.random.uniform(size=10)\n",
    "\n",
    "print(\"\\nBefore processing: \\n\",arr)\n",
    "\n",
    "arr = np.array([sqrt(i) for i in arr])\n",
    "\n",
    "arr[arr<0.5]=0\n",
    "\n",
    "print(\"\\nAfter processing: \\n\",arr)"
   ]
  },
  {
   "cell_type": "markdown",
   "metadata": {
    "id": "SNAM4dpu5RKA"
   },
   "source": [
    "35. Create two random arrays of range 12 and make an array with the maximum values between each element of the two arrays"
   ]
  },
  {
   "cell_type": "code",
   "execution_count": 35,
   "metadata": {
    "id": "3pxebU2b5q9Z"
   },
   "outputs": [
    {
     "output_type": "stream",
     "name": "stdout",
     "text": [
      "\nArray 1: \n [0.2357173  0.91391691 0.95225719 0.01663258 0.6738391  0.82369603\n 0.7997363  0.05798079 0.92925758 0.85171398 0.31939563 0.30289189]\n \nArray 2: \n [0.72947905 0.95150357 0.57851398 0.76369617 0.36789595 0.10715021\n 0.2263607  0.06845053 0.83491021 0.88008942 0.17066051 0.54225617]\n\nMax Values:  [0.95225719 0.95150357]\n\nArray between the max values\n [[0.95152097 0.95190649]\n [0.95185289 0.95215311]]\n"
     ]
    }
   ],
   "source": [
    "arr1 = np.random.random(12)\n",
    "arr2 = np.random.random(12)\n",
    "print(\"\\nArray 1: \\n {0}\\n \\nArray 2: \\n {1}\\n\".format(arr1,arr2))\n",
    "\n",
    "max_val = np.array([arr1.max(),arr2.max()])\n",
    "\n",
    "print(\"Max Values: \",max_val)\n",
    "\n",
    "arr3 = np.random.uniform(max_val.max(),max_val.min(),size=(2,2))\n",
    "print(\"\\nArray between the max values\\n\",arr3)"
   ]
  },
  {
   "cell_type": "markdown",
   "metadata": {
    "id": "fz_bpqm28qmD"
   },
   "source": [
    "36. names = np.array(['Bob', 'Joe', 'Will', 'Bob', 'Will', 'Joe', 'Joe'])\n",
    "\n",
    "---\n",
    "Find the unique names and sort them out!\n"
   ]
  },
  {
   "cell_type": "code",
   "execution_count": 36,
   "metadata": {
    "id": "hiSNMgcY87Ey"
   },
   "outputs": [
    {
     "output_type": "stream",
     "name": "stdout",
     "text": [
      "Unique names: ['Bob' 'Joe' 'Will']\n\nSorted names: ['Bob' 'Joe' 'Will']\n"
     ]
    }
   ],
   "source": [
    "names = np.array(['Bob', 'Joe', 'Will', 'Bob', 'Will', 'Joe', 'Joe'])\n",
    "\n",
    "unique_names = np.unique(names)\n",
    "sorted_names = np.sort(unique_names)\n",
    "\n",
    "print(\"Unique names: {0}\\n\\nSorted names: {1}\".format(unique_names,sorted_names))"
   ]
  },
  {
   "cell_type": "markdown",
   "metadata": {
    "id": "dguMNzob870H"
   },
   "source": [
    "37. a = np.array([1,2,3,4,5])\n",
    "b = np.array([5,6,7,8,9])\n",
    "\n",
    "---\n",
    "From array a remove all items present in array b\n",
    "\n"
   ]
  },
  {
   "cell_type": "code",
   "execution_count": 37,
   "metadata": {
    "id": "eCNJXPvK9IAr"
   },
   "outputs": [
    {
     "output_type": "stream",
     "name": "stdout",
     "text": [
      "[1 2 3 4]\n"
     ]
    }
   ],
   "source": [
    "a = np.array([1,2,3,4,5]) \n",
    "b = np.array([5,6,7,8,9])\n",
    "c = np.setdiff1d(a,b)\n",
    "print(c)\n",
    "\n"
   ]
  },
  {
   "cell_type": "markdown",
   "metadata": {
    "id": "gz4Dvd4b_Akh"
   },
   "source": [
    "38.  Following is the input NumPy array delete column two and insert following new column in its place.\n",
    "\n",
    "---\n",
    "sampleArray = numpy.array([[34,43,73],[82,22,12],[53,94,66]]) \n",
    "\n",
    "\n",
    "---\n",
    "\n",
    "newColumn = numpy.array([[10,10,10]])\n"
   ]
  },
  {
   "cell_type": "code",
   "execution_count": 38,
   "metadata": {
    "id": "lLWAJWJJ_I3d"
   },
   "outputs": [
    {
     "output_type": "stream",
     "name": "stdout",
     "text": [
      "Before: \n [[34 43 73]\n [82 22 12]\n [53 94 66]]\n\nAfter Deleting: \n [[34 73]\n [82 12]\n [53 66]]\n\nAfter Inserting newColumn in 2nd column place: \n [[34 10 73]\n [82 10 12]\n [53 10 66]]\n"
     ]
    }
   ],
   "source": [
    "sampleArray = np.array([[34,43,73],[82,22,12],[53,94,66]])\n",
    "newColumn = np.array([[10,10,10]])\n",
    "\n",
    "print(\"Before: \\n\",sampleArray)\n",
    "\n",
    "sampleArray = np.delete(sampleArray,1,1)\n",
    "print(\"\\nAfter Deleting: \\n\",sampleArray)\n",
    "\n",
    "sampleArray = np.insert(sampleArray,1,newColumn,axis=1)\n",
    "print(\"\\nAfter Inserting newColumn in 2nd column place: \\n\",sampleArray)"
   ]
  },
  {
   "cell_type": "markdown",
   "metadata": {
    "id": "1lIfmbQt_J_W"
   },
   "source": [
    "39. x = np.array([[1., 2., 3.], [4., 5., 6.]]) y = np.array([[6., 23.], [-1, 7], [8, 9]])\n",
    "\n",
    "\n",
    "---\n",
    "Find the dot product of the above two matrix\n"
   ]
  },
  {
   "cell_type": "code",
   "execution_count": 39,
   "metadata": {
    "id": "fV2-vXcR_vmu"
   },
   "outputs": [
    {
     "output_type": "stream",
     "name": "stdout",
     "text": [
      "Dot Product:\n [[ 28.  64.]\n [ 67. 181.]]\n"
     ]
    }
   ],
   "source": [
    "x = np.array([[1., 2., 3.], [4., 5., 6.]]) \n",
    "y = np.array([[6., 23.], [-1, 7], [8, 9]])\n",
    "print(\"Dot Product:\\n\",np.dot(x,y))"
   ]
  },
  {
   "cell_type": "markdown",
   "metadata": {
    "id": "5U-4odUw_wP0"
   },
   "source": [
    "40. Generate a matrix of 20 random values and find its cumulative sum"
   ]
  },
  {
   "cell_type": "code",
   "execution_count": 40,
   "metadata": {
    "id": "_oOHdiYEAF8N"
   },
   "outputs": [
    {
     "output_type": "stream",
     "name": "stdout",
     "text": [
      "Matrix: \n [0.21424642 0.21930056 0.73308066 0.43870859 0.73352188 0.12237468\n 0.6967394  0.13945825 0.93431334 0.28425031 0.96341574 0.21317845\n 0.47563227 0.51172624 0.86364363 0.81546593 0.21027317 0.75773527\n 0.5045078  0.2566594 ]\n\nCumulative Sum =  [ 0.21424642  0.43354698  1.16662763  1.60533622  2.3388581   2.46123278\n  3.15797217  3.29743042  4.23174376  4.51599407  5.47940981  5.69258826\n  6.16822053  6.67994677  7.54359039  8.35905633  8.56932949  9.32706476\n  9.83157256 10.08823196]\n"
     ]
    }
   ],
   "source": [
    "matrix = np.random.rand(20)\n",
    "print(\"Matrix: \\n\",matrix)\n",
    "\n",
    "print(\"\\nCumulative Sum = \",np.cumsum(matrix))"
   ]
  }
 ],
 "metadata": {
  "colab": {
   "name": "Numpy-Assignment-PIAIC-Batch35-Q2.ipynb",
   "provenance": []
  },
  "kernelspec": {
   "display_name": "Python 3",
   "language": "python",
   "name": "python3"
  },
  "language_info": {
   "codemirror_mode": {
    "name": "ipython",
    "version": 3
   },
   "file_extension": ".py",
   "mimetype": "text/x-python",
   "name": "python",
   "nbconvert_exporter": "python",
   "pygments_lexer": "ipython3",
   "version": "3.8.5-final"
  }
 },
 "nbformat": 4,
 "nbformat_minor": 1
}